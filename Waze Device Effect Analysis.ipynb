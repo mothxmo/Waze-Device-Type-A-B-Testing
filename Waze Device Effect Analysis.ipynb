{
 "cells": [
  {
   "cell_type": "markdown",
   "metadata": {},
   "source": [
    "The Goal of this Statistical Analysis is to Determine weather the device type effect on rides is statistically significant for waze application users."
   ]
  },
  {
   "cell_type": "markdown",
   "metadata": {},
   "source": [
    "**Data Description**"
   ]
  },
  {
   "cell_type": "markdown",
   "metadata": {},
   "source": [
    "<table border=\"1\">\n",
    "  <tr>\n",
    "    <th>Column Name</th>\n",
    "    <th>Type</th>\n",
    "    <th>Description</th>\n",
    "  </tr>\n",
    "  <tr>\n",
    "    <td>ID</td>\n",
    "    <td>int</td>\n",
    "    <td>A sequential numbered index</td>\n",
    "  </tr>\n",
    "  <tr>\n",
    "    <td>label</td>\n",
    "    <td>obj</td>\n",
    "    <td>Binary target variable (“retained” vs “churned”) for if a user has churned anytime during the course of the month</td>\n",
    "  </tr>\n",
    "  <tr>\n",
    "    <td>sessions</td>\n",
    "    <td>int</td>\n",
    "    <td>The number of occurrences of a user opening the app during the month</td>\n",
    "  </tr>\n",
    "  <tr>\n",
    "    <td>drives</td>\n",
    "    <td>int</td>\n",
    "    <td>An occurrence of driving at least 1 km during the month</td>\n",
    "  </tr>\n",
    "  <tr>\n",
    "    <td>device</td>\n",
    "    <td>obj</td>\n",
    "    <td>The type of device a user starts a session with</td>\n",
    "  </tr>\n",
    "  <tr>\n",
    "    <td>total_sessions</td>\n",
    "    <td>float</td>\n",
    "    <td>A model estimate of the total number of sessions since a user has onboarded</td>\n",
    "  </tr>\n",
    "  <tr>\n",
    "    <td>n_days_after_onboarding</td>\n",
    "    <td>int</td>\n",
    "    <td>The number of days since a user signed up for the app</td>\n",
    "  </tr>\n",
    "  <tr>\n",
    "    <td>total_navigations_fav1</td>\n",
    "    <td>int</td>\n",
    "    <td>Total navigations since onboarding to the user’s favorite place 1</td>\n",
    "  </tr>\n",
    "  <tr>\n",
    "    <td>total_navigations_fav2</td>\n",
    "    <td>int</td>\n",
    "    <td>Total navigations since onboarding to the user’s favorite place 2</td>\n",
    "  </tr>\n",
    "  <tr>\n",
    "    <td>driven_km_drives</td>\n",
    "    <td>float</td>\n",
    "    <td>Total kilometers driven during the month</td>\n",
    "  </tr>\n",
    "  <tr>\n",
    "    <td>duration_minutes_drives</td>\n",
    "    <td>float</td>\n",
    "    <td>Total duration driven in minutes during the month</td>\n",
    "  </tr>\n",
    "  <tr>\n",
    "    <td>activity_days</td>\n",
    "    <td>int</td>\n",
    "    <td>Number of days the user opens the app during the month</td>\n",
    "  </tr>\n",
    "  <tr>\n",
    "    <td>driving_days</td>\n",
    "    <td>int</td>\n",
    "    <td>Number of days the user drives (at least 1 km) during the month</td>\n",
    "  </tr>\n",
    "</table>\n"
   ]
  },
  {
   "cell_type": "code",
   "execution_count": 2,
   "metadata": {},
   "outputs": [],
   "source": [
    "#Import the Required Libraries\n",
    "import pandas as pd\n",
    "from scipy import stats "
   ]
  },
  {
   "cell_type": "code",
   "execution_count": 3,
   "metadata": {},
   "outputs": [],
   "source": [
    "#import the dataset \\\n",
    "filepath = \"waze_dataset.csv\"\n",
    "df = pd.read_csv(filepath)"
   ]
  },
  {
   "cell_type": "code",
   "execution_count": 9,
   "metadata": {},
   "outputs": [
    {
     "name": "stdout",
     "output_type": "stream",
     "text": [
      "<class 'pandas.core.frame.DataFrame'>\n",
      "RangeIndex: 14999 entries, 0 to 14998\n",
      "Data columns (total 13 columns):\n",
      " #   Column                   Non-Null Count  Dtype  \n",
      "---  ------                   --------------  -----  \n",
      " 0   ID                       14999 non-null  int64  \n",
      " 1   label                    14299 non-null  object \n",
      " 2   sessions                 14999 non-null  int64  \n",
      " 3   drives                   14999 non-null  int64  \n",
      " 4   total_sessions           14999 non-null  float64\n",
      " 5   n_days_after_onboarding  14999 non-null  int64  \n",
      " 6   total_navigations_fav1   14999 non-null  int64  \n",
      " 7   total_navigations_fav2   14999 non-null  int64  \n",
      " 8   driven_km_drives         14999 non-null  float64\n",
      " 9   duration_minutes_drives  14999 non-null  float64\n",
      " 10  activity_days            14999 non-null  int64  \n",
      " 11  driving_days             14999 non-null  int64  \n",
      " 12  device                   14999 non-null  object \n",
      "dtypes: float64(3), int64(8), object(2)\n",
      "memory usage: 1.5+ MB\n",
      "The dataset describtion\n",
      "                  ID     label      sessions        drives  total_sessions  \\\n",
      "count   14999.000000     14299  14999.000000  14999.000000    14999.000000   \n",
      "unique           NaN         2           NaN           NaN             NaN   \n",
      "top              NaN  retained           NaN           NaN             NaN   \n",
      "freq             NaN     11763           NaN           NaN             NaN   \n",
      "mean     7499.000000       NaN     80.633776     67.281152      189.964447   \n",
      "std      4329.982679       NaN     80.699065     65.913872      136.405128   \n",
      "min         0.000000       NaN      0.000000      0.000000        0.220211   \n",
      "25%      3749.500000       NaN     23.000000     20.000000       90.661156   \n",
      "50%      7499.000000       NaN     56.000000     48.000000      159.568115   \n",
      "75%     11248.500000       NaN    112.000000     93.000000      254.192341   \n",
      "max     14998.000000       NaN    743.000000    596.000000     1216.154633   \n",
      "\n",
      "        n_days_after_onboarding  total_navigations_fav1  \\\n",
      "count              14999.000000            14999.000000   \n",
      "unique                      NaN                     NaN   \n",
      "top                         NaN                     NaN   \n",
      "freq                        NaN                     NaN   \n",
      "mean                1749.837789              121.605974   \n",
      "std                 1008.513876              148.121544   \n",
      "min                    4.000000                0.000000   \n",
      "25%                  878.000000                9.000000   \n",
      "50%                 1741.000000               71.000000   \n",
      "75%                 2623.500000              178.000000   \n",
      "max                 3500.000000             1236.000000   \n",
      "\n",
      "        total_navigations_fav2  driven_km_drives  duration_minutes_drives  \\\n",
      "count             14999.000000      14999.000000             14999.000000   \n",
      "unique                     NaN               NaN                      NaN   \n",
      "top                        NaN               NaN                      NaN   \n",
      "freq                       NaN               NaN                      NaN   \n",
      "mean                 29.672512       4039.340921              1860.976012   \n",
      "std                  45.394651       2502.149334              1446.702288   \n",
      "min                   0.000000         60.441250                18.282082   \n",
      "25%                   0.000000       2212.600607               835.996260   \n",
      "50%                   9.000000       3493.858085              1478.249859   \n",
      "75%                  43.000000       5289.861262              2464.362632   \n",
      "max                 415.000000      21183.401890             15851.727160   \n",
      "\n",
      "        activity_days  driving_days  device  \n",
      "count    14999.000000  14999.000000   14999  \n",
      "unique            NaN           NaN       2  \n",
      "top               NaN           NaN  iPhone  \n",
      "freq              NaN           NaN    9672  \n",
      "mean        15.537102     12.179879     NaN  \n",
      "std          9.004655      7.824036     NaN  \n",
      "min          0.000000      0.000000     NaN  \n",
      "25%          8.000000      5.000000     NaN  \n",
      "50%         16.000000     12.000000     NaN  \n",
      "75%         23.000000     19.000000     NaN  \n",
      "max         31.000000     30.000000     NaN  \n",
      "The dataset information\n",
      "None\n",
      "The devices types count for this dataset\n",
      "device\n",
      "iPhone     9672\n",
      "Android    5327\n",
      "Name: count, dtype: int64\n"
     ]
    }
   ],
   "source": [
    "#explore the dataset\n",
    "description = df.describe(include='all')\n",
    "information = df.info()\n",
    "devices = df[\"device\"].value_counts()\n",
    "print(\"The dataset describtion\")\n",
    "print(description)\n",
    "print(\"The dataset information\")\n",
    "print(information)\n",
    "print(\"The devices types count for this dataset\")\n",
    "print(devices)"
   ]
  },
  {
   "cell_type": "code",
   "execution_count": 10,
   "metadata": {},
   "outputs": [
    {
     "data": {
      "text/plain": [
       "0        2\n",
       "1        1\n",
       "2        2\n",
       "3        1\n",
       "4        2\n",
       "        ..\n",
       "14994    1\n",
       "14995    2\n",
       "14996    1\n",
       "14997    1\n",
       "14998    1\n",
       "Name: Mobile, Length: 14999, dtype: int64"
      ]
     },
     "execution_count": 10,
     "metadata": {},
     "output_type": "execute_result"
    }
   ],
   "source": [
    "#map the device type into integer format to use descriptive statistics to conduct exploratory data analysis (EDA)\n",
    "map_dic = {\"iPhone\":1, \"Android\":2}\n",
    "df[\"Mobile\"] = df['device'].map(map_dic)\n",
    "df[\"Mobile\"]"
   ]
  },
  {
   "cell_type": "markdown",
   "metadata": {},
   "source": [
    "we are interested in the relationship between device type and the number of drives. One approach is to look at the average number of drives for each device type. Calculate these averages."
   ]
  },
  {
   "cell_type": "code",
   "execution_count": 14,
   "metadata": {},
   "outputs": [
    {
     "name": "stdout",
     "output_type": "stream",
     "text": [
      "iphone= 67.85907775020678 android= 66.23183780739629\n"
     ]
    }
   ],
   "source": [
    "#prepare the dataset to calculate the average number of drives per Mobile Type\n",
    "iphone = df[df[\"Mobile\"] == 1]\n",
    "android = df[df[\"Mobile\"] == 2]\n",
    "#Calculate the average(mean)\n",
    "iphone_average_rides = iphone[\"drives\"].mean()\n",
    "android_average_rides = android[\"drives\"].mean()\n",
    "#show the results\n",
    "print(f\"iphone= {iphone_average_rides} android= {android_average_rides}\")"
   ]
  },
  {
   "cell_type": "markdown",
   "metadata": {},
   "source": [
    "Based on the averages shown, it appears that drivers who use an iPhone device to interact with the application have a higher number of drives on average. However, this difference might arise from random sampling, rather than being a true difference in the number of drives. To assess whether the difference is statistically significant, you can conduct a hypothesis test."
   ]
  },
  {
   "cell_type": "markdown",
   "metadata": {},
   "source": [
    "Now it's time to test if that difference is statistically Significant "
   ]
  },
  {
   "cell_type": "markdown",
   "metadata": {},
   "source": [
    "Ho: This Difference in mean value is by chance \n",
    "Ha: This Difference in mean value is due to device Type"
   ]
  },
  {
   "cell_type": "code",
   "execution_count": 15,
   "metadata": {},
   "outputs": [
    {
     "data": {
      "text/plain": [
       "TtestResult(statistic=1.463523206885235, pvalue=0.14335197268020597, df=11345.066049381952)"
      ]
     },
     "execution_count": 15,
     "metadata": {},
     "output_type": "execute_result"
    }
   ],
   "source": [
    "tetst = stats.ttest_ind(a=iphone[\"drives\"], b=android[\"drives\"], equal_var=False)\n",
    "tetst"
   ]
  },
  {
   "cell_type": "markdown",
   "metadata": {},
   "source": [
    "Since the p-value is larger than the chosen significance level (5%), you fail to reject the null hypothesis. You conclude that there is **not** a statistically significant difference in the average number of drives between drivers who use iPhones and drivers who use Androids."
   ]
  },
  {
   "cell_type": "code",
   "execution_count": null,
   "metadata": {},
   "outputs": [],
   "source": []
  },
  {
   "cell_type": "code",
   "execution_count": null,
   "metadata": {},
   "outputs": [],
   "source": []
  },
  {
   "cell_type": "code",
   "execution_count": null,
   "metadata": {},
   "outputs": [],
   "source": []
  },
  {
   "cell_type": "code",
   "execution_count": null,
   "metadata": {},
   "outputs": [],
   "source": []
  },
  {
   "cell_type": "code",
   "execution_count": null,
   "metadata": {},
   "outputs": [],
   "source": []
  },
  {
   "cell_type": "code",
   "execution_count": null,
   "metadata": {},
   "outputs": [],
   "source": []
  },
  {
   "cell_type": "code",
   "execution_count": null,
   "metadata": {},
   "outputs": [],
   "source": []
  },
  {
   "cell_type": "code",
   "execution_count": null,
   "metadata": {},
   "outputs": [],
   "source": []
  },
  {
   "cell_type": "code",
   "execution_count": null,
   "metadata": {},
   "outputs": [],
   "source": []
  }
 ],
 "metadata": {
  "kernelspec": {
   "display_name": "Python 3",
   "language": "python",
   "name": "python3"
  },
  "language_info": {
   "codemirror_mode": {
    "name": "ipython",
    "version": 3
   },
   "file_extension": ".py",
   "mimetype": "text/x-python",
   "name": "python",
   "nbconvert_exporter": "python",
   "pygments_lexer": "ipython3",
   "version": "3.12.0"
  }
 },
 "nbformat": 4,
 "nbformat_minor": 2
}
